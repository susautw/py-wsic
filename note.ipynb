{
 "cells": [
  {
   "cell_type": "code",
   "execution_count": 1,
   "id": "79cab0e1",
   "metadata": {},
   "outputs": [],
   "source": [
    "import ctypes\n",
    "import numpy as np\n",
    "from common.object_program import *"
   ]
  },
  {
   "cell_type": "code",
   "execution_count": 2,
   "id": "5077b2a6",
   "metadata": {},
   "outputs": [
    {
     "name": "stdout",
     "output_type": "stream",
     "text": [
      "Int24(-8388608) Int24(8388607) Int24(-1) Int24(0)\n"
     ]
    },
    {
     "data": {
      "text/plain": [
       "(-8388608, 8388607)"
      ]
     },
     "execution_count": 2,
     "metadata": {},
     "output_type": "execute_result"
    }
   ],
   "source": [
    "print(Int24.from_int(-2**23), Int24.from_int(2**23 - 1), Int24.from_int(-1), Int24.from_int(0)) \n",
    "-2**23 , 2**23 - 1"
   ]
  },
  {
   "cell_type": "code",
   "execution_count": 3,
   "id": "1f61b565",
   "metadata": {},
   "outputs": [
    {
     "ename": "ValueError",
     "evalue": "Value must be in the range -8388608 to 8388607",
     "output_type": "error",
     "traceback": [
      "\u001b[31m---------------------------------------------------------------------------\u001b[39m",
      "\u001b[31mValueError\u001b[39m                                Traceback (most recent call last)",
      "\u001b[36mCell\u001b[39m\u001b[36m \u001b[39m\u001b[32mIn[3]\u001b[39m\u001b[32m, line 1\u001b[39m\n\u001b[32m----> \u001b[39m\u001b[32m1\u001b[39m \u001b[38;5;28mhex\u001b[39m(\u001b[38;5;28mint\u001b[39m.from_bytes(\u001b[43mInt24\u001b[49m\u001b[43m.\u001b[49m\u001b[43mfrom_int\u001b[49m\u001b[43m(\u001b[49m\u001b[32;43m0xFFFFFF\u001b[39;49m\u001b[43m)\u001b[49m))\n",
      "\u001b[36mFile \u001b[39m\u001b[32m~/Projects/py-asm/src/common/object_program.py:19\u001b[39m, in \u001b[36mInt24.from_int\u001b[39m\u001b[34m(value)\u001b[39m\n\u001b[32m     16\u001b[39m \u001b[38;5;129m@staticmethod\u001b[39m\n\u001b[32m     17\u001b[39m \u001b[38;5;28;01mdef\u001b[39;00m\u001b[38;5;250m \u001b[39m\u001b[34mfrom_int\u001b[39m(value):\n\u001b[32m     18\u001b[39m     \u001b[38;5;28;01mif\u001b[39;00m \u001b[38;5;129;01mnot\u001b[39;00m (-\u001b[32m0x800000\u001b[39m <= value <= \u001b[32m0x7FFFFF\u001b[39m):\n\u001b[32m---> \u001b[39m\u001b[32m19\u001b[39m         \u001b[38;5;28;01mraise\u001b[39;00m \u001b[38;5;167;01mValueError\u001b[39;00m(\u001b[33m\"\u001b[39m\u001b[33mValue must be in the range -8388608 to 8388607\u001b[39m\u001b[33m\"\u001b[39m)\n\u001b[32m     20\u001b[39m     \u001b[38;5;28;01mreturn\u001b[39;00m Int24(\n\u001b[32m     21\u001b[39m         byte1=(value >> \u001b[32m16\u001b[39m) & \u001b[32m0xFF\u001b[39m,\n\u001b[32m     22\u001b[39m         byte2=(value >> \u001b[32m8\u001b[39m) & \u001b[32m0xFF\u001b[39m,\n\u001b[32m     23\u001b[39m         byte3=value & \u001b[32m0xFF\u001b[39m,\n\u001b[32m     24\u001b[39m     )\n",
      "\u001b[31mValueError\u001b[39m: Value must be in the range -8388608 to 8388607"
     ]
    }
   ],
   "source": [
    "hex(int.from_bytes(Int24.from_int(0xFFFFFF)))"
   ]
  },
  {
   "cell_type": "code",
   "execution_count": null,
   "id": "02b9ab40",
   "metadata": {},
   "outputs": [
    {
     "data": {
      "text/plain": [
       "H, progrm, 001000, 008000"
      ]
     },
     "execution_count": 4,
     "metadata": {},
     "output_type": "execute_result"
    }
   ],
   "source": [
    "HeaderRecord.from_buffer_copy(b'\\x00progrm\\x00\\x10\\x00\\x00\\x80\\x00')"
   ]
  },
  {
   "cell_type": "code",
   "execution_count": null,
   "id": "df176325",
   "metadata": {},
   "outputs": [
    {
     "data": {
      "text/plain": [
       "T,001000, FF"
      ]
     },
     "execution_count": 5,
     "metadata": {},
     "output_type": "execute_result"
    }
   ],
   "source": [
    "TextRecord.from_buffer_copy(b'\\x02\\x00\\x10\\x00\\xff')"
   ]
  },
  {
   "cell_type": "code",
   "execution_count": null,
   "id": "5cb0f542",
   "metadata": {},
   "outputs": [
    {
     "data": {
      "text/plain": [
       "E,001000"
      ]
     },
     "execution_count": 6,
     "metadata": {},
     "output_type": "execute_result"
    }
   ],
   "source": [
    "EndRecord.from_buffer_copy(b'\\x03\\x00\\x10\\x00')"
   ]
  },
  {
   "cell_type": "code",
   "execution_count": null,
   "id": "6149c8d9",
   "metadata": {},
   "outputs": [
    {
     "data": {
      "text/plain": [
       "M,002000, 06"
      ]
     },
     "execution_count": 7,
     "metadata": {},
     "output_type": "execute_result"
    }
   ],
   "source": [
    "ModificationRecord.from_buffer_copy(b'\\x04\\x00\\x20\\x00\\x06')"
   ]
  },
  {
   "cell_type": "code",
   "execution_count": null,
   "id": "b5f7d29f",
   "metadata": {},
   "outputs": [],
   "source": []
  },
  {
   "cell_type": "code",
   "execution_count": 5,
   "id": "4fe8a329",
   "metadata": {},
   "outputs": [
    {
     "data": {
      "text/plain": [
       "(LDA, True, 1234, '0x3492')"
      ]
     },
     "execution_count": 5,
     "metadata": {},
     "output_type": "execute_result"
    }
   ],
   "source": [
    "from common.optable import OpcodeTable\n",
    "o = SICFormatObjectCode.create(OpcodeTable.LDA, 0x1234, True)\n",
    "o, str(o)"
   ]
  },
  {
   "cell_type": "code",
   "execution_count": null,
   "id": "2a371657",
   "metadata": {},
   "outputs": [
    {
     "name": "stdout",
     "output_type": "stream",
     "text": [
      "/tmp/tmp2agf1e8g\n",
      "24\n"
     ]
    }
   ],
   "source": [
    "from tempfile import NamedTemporaryFile\n",
    "\n",
    "with NamedTemporaryFile() as f:\n",
    "    print(f.name)\n",
    "    fp = np.memmap(f, mode='w+', shape=(0xFFFFFF,), dtype=np.uint8)\n",
    "\n",
    "    print(len(bytes(fp[0:3])))\n"
   ]
  },
  {
   "cell_type": "code",
   "execution_count": null,
   "id": "87f4461f",
   "metadata": {},
   "outputs": [
    {
     "data": {
      "text/plain": [
       "(UInt24(0x800000=8388608), Int24(-8388608))"
      ]
     },
     "execution_count": 9,
     "metadata": {},
     "output_type": "execute_result"
    }
   ],
   "source": [
    "i = Int24.from_int(-2**23)\n",
    "UInt24.from_buffer(i), i"
   ]
  },
  {
   "cell_type": "code",
   "execution_count": 6,
   "id": "e0286aca",
   "metadata": {},
   "outputs": [
    {
     "name": "stdout",
     "output_type": "stream",
     "text": [
      "0x0 OpcodeTable.LDA\n",
      "0x1 OpcodeTable.LDCH\n",
      "0x2 OpcodeTable.LDX\n",
      "0x3 OpcodeTable.LDL\n",
      "0x4 OpcodeTable.LDS\n",
      "0x5 OpcodeTable.STA\n",
      "0x6 OpcodeTable.STCH\n",
      "0x7 OpcodeTable.STX\n",
      "0x8 OpcodeTable.STL\n",
      "0x9 OpcodeTable.STS\n",
      "0xa OpcodeTable.COMP\n",
      "0xb OpcodeTable.TIX\n",
      "0xc OpcodeTable.ADD\n",
      "0xd OpcodeTable.SUB\n",
      "0xe OpcodeTable.J\n",
      "0xf OpcodeTable.JEQ\n",
      "0x10 OpcodeTable.JLT\n",
      "0x11 OpcodeTable.JGT\n",
      "0x12 OpcodeTable.JSUB\n",
      "0x13 OpcodeTable.RSUB\n",
      "0x14 OpcodeTable.RD\n",
      "0x15 OpcodeTable.WD\n",
      "0x16 OpcodeTable.HLT\n",
      "0x17 OpcodeTable.NOP\n"
     ]
    }
   ],
   "source": [
    "from common.optable import code_lut\n",
    "for k, v in code_lut.items():\n",
    "    print(hex(k), v)"
   ]
  },
  {
   "cell_type": "code",
   "execution_count": null,
   "id": "df856246",
   "metadata": {},
   "outputs": [],
   "source": [
    "TextRecord(record_type=TextRecord.ID, starting_address=0x0000, length= )"
   ]
  }
 ],
 "metadata": {
  "kernelspec": {
   "display_name": ".venv",
   "language": "python",
   "name": "python3"
  },
  "language_info": {
   "codemirror_mode": {
    "name": "ipython",
    "version": 3
   },
   "file_extension": ".py",
   "mimetype": "text/x-python",
   "name": "python",
   "nbconvert_exporter": "python",
   "pygments_lexer": "ipython3",
   "version": "3.13.3"
  }
 },
 "nbformat": 4,
 "nbformat_minor": 5
}
